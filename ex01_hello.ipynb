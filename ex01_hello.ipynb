{
 "cells": [
  {
   "cell_type": "code",
   "execution_count": 1,
   "metadata": {},
   "outputs": [
    {
     "output_type": "stream",
     "name": "stdout",
     "text": "2.1.0\n"
    }
   ],
   "source": [
    "import tensorflow as tf\n",
    "print(tf.__version__)"
   ]
  },
  {
   "cell_type": "code",
   "execution_count": 2,
   "metadata": {},
   "outputs": [
    {
     "output_type": "execute_result",
     "data": {
      "text/plain": "<tf.Tensor: shape=(), dtype=int32, numpy=100>"
     },
     "metadata": {},
     "execution_count": 2
    }
   ],
   "source": [
    "tf.constant(100)"
   ]
  },
  {
   "cell_type": "code",
   "execution_count": 3,
   "metadata": {},
   "outputs": [
    {
     "output_type": "stream",
     "name": "stdout",
     "text": "tf.Tensor(100, shape=(), dtype=int32)\n"
    },
    {
     "output_type": "execute_result",
     "data": {
      "text/plain": "100"
     },
     "metadata": {},
     "execution_count": 3
    }
   ],
   "source": [
    "tensor_a = tf.constant(100) # 상수텐서 \n",
    "print(tensor_a)\n",
    "tensor_a.numpy() # 출력하기"
   ]
  },
  {
   "cell_type": "code",
   "execution_count": 7,
   "metadata": {},
   "outputs": [
    {
     "name": "stdout",
     "output_type": "stream",
     "text": [
      "5\n"
     ]
    }
   ],
   "source": [
    "tensor_b = tf.constant(3)\n",
    "tensor_c = tf.constant(2)\n",
    "\n",
    "tensor_d = tf.add(tensor_b,tensor_c)\n",
    "print(tensor_d.numpy())\n"
   ]
  },
  {
   "cell_type": "code",
   "execution_count": 9,
   "metadata": {},
   "outputs": [
    {
     "name": "stdout",
     "output_type": "stream",
     "text": [
      "6\n"
     ]
    }
   ],
   "source": [
    "tensor_e = tf.multiply(tensor_b,tensor_c)\n",
    "print(tensor_e.numpy())"
   ]
  },
  {
   "cell_type": "code",
   "execution_count": 10,
   "metadata": {},
   "outputs": [
    {
     "name": "stdout",
     "output_type": "stream",
     "text": [
      "1\n"
     ]
    }
   ],
   "source": [
    "tensor_f = tensor_b - tensor_c # 계산기호사용가능\n",
    "print(tensor_f.numpy())"
   ]
  },
  {
   "cell_type": "code",
   "execution_count": 13,
   "metadata": {},
   "outputs": [
    {
     "name": "stdout",
     "output_type": "stream",
     "text": [
      "[[2 0]\n",
      " [0 8]]\n",
      "[[2 4]\n",
      " [6 8]]\n"
     ]
    }
   ],
   "source": [
    "tensor_ma = tf.constant([[1,2],[3,4]])\n",
    "tensor_mb = tf.constant([[2,0],[0,2]])\n",
    "tensor_mc = tensor_ma * tensor_mb #벡터 곱하기\n",
    "print(tensor_mc.numpy())\n",
    "tensor_md = tf.matmul(tensor_ma,tensor_mb) #메트릭스 곱 \n",
    "print(tensor_md.numpy())"
   ]
  },
  {
   "cell_type": "code",
   "execution_count": null,
   "metadata": {},
   "outputs": [],
   "source": []
  }
 ],
 "metadata": {
  "kernelspec": {
   "display_name": "Python 3.7.7 64-bit ('opencv4': conda)",
   "language": "python",
   "name": "python37764bitopencv4conda267d1634dd1a45bf9087c461d989978c"
  },
  "language_info": {
   "codemirror_mode": {
    "name": "ipython",
    "version": 3
   },
   "file_extension": ".py",
   "mimetype": "text/x-python",
   "name": "python",
   "nbconvert_exporter": "python",
   "pygments_lexer": "ipython3",
   "version": "3.7.7-final"
  }
 },
 "nbformat": 4,
 "nbformat_minor": 4
}