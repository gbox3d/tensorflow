{
 "cells": [
  {
   "cell_type": "code",
   "execution_count": 1,
   "metadata": {},
   "outputs": [
    {
     "output_type": "stream",
     "name": "stdout",
     "text": "tensor versio : 2.1.0\n"
    }
   ],
   "source": [
    "import tensorflow.compat.v1 as tf\n",
    "\n",
    "T = 1.0\n",
    "F = 0.0\n",
    "bias = 1.0\n",
    "print( f'tensor versio : {tf.__version__}')\n"
   ]
  },
  {
   "cell_type": "code",
   "execution_count": 2,
   "metadata": {},
   "outputs": [
    {
     "output_type": "stream",
     "name": "stdout",
     "text": "<tf.Variable 'Variable:0' shape=(3, 1) dtype=float32, numpy=\narray([[0.15041415],\n       [1.1394333 ],\n       [0.3235455 ]], dtype=float32)>\n[[0.0, 0.0, 1.0], [0.0, 1.0, 1.0], [1.0, 0.0, 1.0], [1.0, 1.0, 1.0]] [[0.0], [0.0], [0.0], [1.0]]\n"
    }
   ],
   "source": [
    "def get_AND_data():\n",
    "    X = [\n",
    "    [F, F, bias],\n",
    "    [F, T, bias],\n",
    "    [T, F, bias],\n",
    "    [T, T, bias]\n",
    "    ]\n",
    "    \n",
    "    Y = [\n",
    "        [F],\n",
    "        [F],\n",
    "        [F],\n",
    "        [T]\n",
    "    ]\n",
    "    \n",
    "    return X, Y\n",
    "\n",
    "def get_OR_data():\n",
    "    X = [\n",
    "    [F, F, bias],\n",
    "    [F, T, bias],\n",
    "    [T, F, bias],\n",
    "    [T, T, bias]\n",
    "    ]\n",
    "    \n",
    "    Y = [\n",
    "        [F],\n",
    "        [T],\n",
    "        [T],\n",
    "        [T]\n",
    "    ]\n",
    "    \n",
    "    return X, Y\n",
    "\n",
    "def get_XOR_data():\n",
    "    X = [\n",
    "    [F, F, bias],\n",
    "    [F, T, bias],\n",
    "    [T, F, bias],\n",
    "    [T, T, bias]\n",
    "    ]\n",
    "    \n",
    "    Y = [\n",
    "        [F],\n",
    "        [T],\n",
    "        [T],\n",
    "        [F]\n",
    "    ]\n",
    "    \n",
    "    return X, Y\n",
    "\n",
    "X, Y = get_AND_data()\n",
    "W = tf.Variable(tf.random_normal([3, 1]))\n",
    "\n",
    "print(W)\n",
    "print (X,Y)"
   ]
  },
  {
   "cell_type": "code",
   "execution_count": null,
   "metadata": {},
   "outputs": [],
   "source": []
  }
 ],
 "metadata": {
  "language_info": {
   "codemirror_mode": {
    "name": "ipython",
    "version": 3
   },
   "file_extension": ".py",
   "mimetype": "text/x-python",
   "name": "python",
   "nbconvert_exporter": "python",
   "pygments_lexer": "ipython3",
   "version": "3.7.7-final"
  },
  "orig_nbformat": 2,
  "kernelspec": {
   "name": "python3",
   "display_name": "Python 3"
  }
 },
 "nbformat": 4,
 "nbformat_minor": 2
}